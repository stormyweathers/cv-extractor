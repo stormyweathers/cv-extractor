{
 "cells": [
  {
   "cell_type": "code",
   "execution_count": 19,
   "metadata": {},
   "outputs": [
    {
     "data": {
      "image/png": "[encoded data removed]",
      "text/plain": [
       "<Figure size 432x288 with 1 Axes>"
      ]
     },
     "metadata": {
      "needs_background": "light"
     },
     "output_type": "display_data"
    },
    {
     "data": {
      "text/plain": [
       "(0.22285057330621436, 22.507907903927652)"
      ]
     },
     "execution_count": 19,
     "metadata": {},
     "output_type": "execute_result"
    }
   ],
   "source": [
    "from numpy import pi,sqrt\n",
    "import numpy as np\n",
    "from matplotlib import pyplot as plt\n",
    "\n",
    "def get_transfer_func(Cg,Cf,R1,R2):\n",
    "    ## -20dB / decade\n",
    "    return lambda s:(1+Cg*(R1+R2)*s+Cg*Cf*R1*R2*s**2)**-1\n",
    "\n",
    "def sallen_key(Cg,Cf,R1,R2):\n",
    "    f_cutoff=1/(2*pi)*1/sqrt(R1*R2*Cf*Cg)\n",
    "    Q=(2*pi*f_cutoff)*(R1+R2)*Cg\n",
    "    H=get_transfer_func(Cg,Cf,R1,R2)\n",
    "    return f_cutoff,Q,H\n",
    "    \n",
    "\n",
    "Rpot=np.linspace(0,1e5,30)\n",
    "\n",
    "R1=1e3+Rpot\n",
    "\n",
    "R2=R1\n",
    "Cf=10e-6 #F\n",
    "Cg=(1/2)*10e-6#F\n",
    "\n",
    "f_cutoff,Q,_=sallen_key(Cg,Cf,R1,R2)\n",
    "\n",
    "plt.plot(Rpot,f_cutoff, color=\"blue\")\n",
    "plt.plot(Rpot,Q,color='red')\n",
    "plt.show()\n",
    "np.min(f_cutoff),np.max(f_cutoff)\n"
   ]
  },
  {
   "cell_type": "code",
   "execution_count": 21,
   "metadata": {},
   "outputs": [
    {
     "data": {
      "text/plain": [
       "[<matplotlib.lines.Line2D at 0x7f7ce75c98b0>]"
      ]
     },
     "execution_count": 21,
     "metadata": {},
     "output_type": "execute_result"
    },
    {
     "data": {
      "image/png": "[encoded data removed]",
      "text/plain": [
       "<Figure size 432x288 with 1 Axes>"
      ]
     },
     "metadata": {
      "needs_background": "light"
     },
     "output_type": "display_data"
    }
   ],
   "source": [
    "R1=np.mean(R1)\n",
    "R2=R1\n",
    "H=get_transfer_func(Cg,Cf,R1,R2)\n",
    "S_vals=1j*np.logspace(-1,4,100)\n",
    "plt.loglog(np.abs(S_vals),np.abs(H(S_vals)))"
   ]
  },
  {
   "cell_type": "code",
   "execution_count": 29,
   "metadata": {},
   "outputs": [
    {
     "data": {
      "text/plain": [
       "99.99997043991578"
      ]
     },
     "execution_count": 29,
     "metadata": {},
     "output_type": "execute_result"
    }
   ],
   "source": [
    "np.abs(H(1j*100))/np.abs(H(1j*1000))"
   ]
  },
  {
   "cell_type": "code",
   "execution_count": 30,
   "metadata": {},
   "outputs": [
    {
     "data": {
      "text/plain": [
       "(239.4458287651878,\n",
       " 1.414213562373095,\n",
       " <function __main__.get_transfer_func.<locals>.<lambda>(s)>)"
      ]
     },
     "execution_count": 30,
     "metadata": {},
     "output_type": "execute_result"
    }
   ],
   "source": [
    "\n",
    "Cf=47e-9 #F\n",
    "Cg=(1/2)*47e-9#F\n",
    "R1=20e3\n",
    "R2=20e3\n",
    "sallen_key(Cg,Cf,R1,R2)"
   ]
  },
  {
   "cell_type": "code",
   "execution_count": null,
   "metadata": {},
   "outputs": [],
   "source": []
  }
 ],
 "metadata": {
  "kernelspec": {
   "display_name": "Python 3",
   "language": "python",
   "name": "python3"
  },
  "language_info": {
   "codemirror_mode": {
    "name": "ipython",
    "version": 3
   },
   "file_extension": ".py",
   "mimetype": "text/x-python",
   "name": "python",
   "nbconvert_exporter": "python",
   "pygments_lexer": "ipython3",
   "version": "3.8.3"
  }
 },
 "nbformat": 4,
 "nbformat_minor": 4
}
